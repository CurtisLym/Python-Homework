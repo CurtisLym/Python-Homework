{
 "cells": [
  {
   "cell_type": "code",
   "execution_count": 60,
   "id": "8653a54c-d6c7-4852-9b5c-defb54e00454",
   "metadata": {},
   "outputs": [],
   "source": [
    "import csv"
   ]
  },
  {
   "cell_type": "code",
   "execution_count": 66,
   "id": "cd2a16c7-3b52-4287-b66a-e494406fd9f1",
   "metadata": {},
   "outputs": [],
   "source": [
    "all_profits = []\n",
    "all_losses = []\n",
    "months_total = []\n",
    "month_profit_loss = []\n",
    "count = 0\n",
    "total = 0"
   ]
  },
  {
   "cell_type": "code",
   "execution_count": 67,
   "id": "03855110-b2c9-4bf8-a343-11cb70b6c6a2",
   "metadata": {},
   "outputs": [],
   "source": [
    "csvfile = 'budget_data.csv'"
   ]
  },
  {
   "cell_type": "code",
   "execution_count": 68,
   "id": "e2f81633-a09e-4549-ad0f-d85c245fd182",
   "metadata": {},
   "outputs": [
    {
     "name": "stdout",
     "output_type": "stream",
     "text": [
      "86\n"
     ]
    }
   ],
   "source": [
    "with open (csvfile, 'r') as csvbud:\n",
    "    csvreader = csv.reader(csvbud, delimiter = ',')\n",
    "    header = next(csvreader)\n",
    "    \n",
    "    for row in csvreader:\n",
    "        date = row[0]\n",
    "        profit_loss = int(row[1])\n",
    "        month_profit_loss.append(row)\n",
    "    \n",
    "    for profit in month_profit_loss:\n",
    "        count += 1\n",
    "        \n",
    "print(count)\n"
   ]
  },
  {
   "cell_type": "code",
   "execution_count": null,
   "id": "e21b097c-d69f-4685-b9f6-0657923e669e",
   "metadata": {},
   "outputs": [],
   "source": []
  }
 ],
 "metadata": {
  "kernelspec": {
   "display_name": "Python 3",
   "language": "python",
   "name": "python3"
  },
  "language_info": {
   "codemirror_mode": {
    "name": "ipython",
    "version": 3
   },
   "file_extension": ".py",
   "mimetype": "text/x-python",
   "name": "python",
   "nbconvert_exporter": "python",
   "pygments_lexer": "ipython3",
   "version": "3.7.10"
  }
 },
 "nbformat": 4,
 "nbformat_minor": 5
}
