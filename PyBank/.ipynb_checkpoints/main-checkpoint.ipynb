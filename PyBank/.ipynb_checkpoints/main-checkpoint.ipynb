{
 "cells": [
  {
   "cell_type": "code",
   "execution_count": 168,
   "id": "f2cf9fcc-4640-4a6e-84a9-b06f4ee3c438",
   "metadata": {},
   "outputs": [],
   "source": [
    "import csv  #the import of csv allows for the use of csv funtions\n",
    "import numpy as np #The import of numpy allows the use of numpy funtions\n",
    "from pathlib import Path #pathlib allows for the linking and reading of seperate files\n",
    "count = 0\n",
    "total_revenue = 0   #Setting variables\n",
    "\n",
    "profits_losses = []\n",
    "months_total = []   #Creating of lists to seperate and calculate data"
   ]
  },
  {
   "cell_type": "code",
   "execution_count": 169,
   "id": "163439c9-6c9f-47aa-a661-f79bdaf27270",
   "metadata": {},
   "outputs": [],
   "source": [
    "csvpath = Path('budget_data.csv') #The csv file path"
   ]
  },
  {
   "cell_type": "code",
   "execution_count": 170,
   "id": "7ccd69f0-24c8-493f-8253-00dc6b67605f",
   "metadata": {},
   "outputs": [
    {
     "name": "stdout",
     "output_type": "stream",
     "text": [
      "loss and profits\n",
      "[867884, 984655, 322013, -69417, 310503, 522857, 1033096, 604885, -216386, 477532, 893810, -80353, 779806, -335203, 697845, 793163, 485070, 584122, 62729, 668179, 899906, 834719, 132003, 309978, -755566, 1170593, 252788, 1151518, 817256, 570757, 506702, -1022534, 475062, 779976, 144175, 542494, 359333, 321469, 67780, 471435, 565603, 872480, 789480, 999942, -1196225, 268997, -687986, 1150461, 682458, 617856, 824098, 581943, 132864, 448062, 689161, 800701, 1166643, 947333, 578668, 988505, 1139715, 1029471, 687533, -524626, 158620, 87795, 423389, 840723, 568529, 332067, 989499, 778237, 650000, -1100387, -174946, 757143, 445709, 712961, -1163797, 569899, 768450, 102685, 795914, 60988, 138230, 671099]\n",
      "dates\n",
      "['Jan-2010', 'Feb-2010', 'Mar-2010', 'Apr-2010', 'May-2010', 'Jun-2010', 'Jul-2010', 'Aug-2010', 'Sep-2010', 'Oct-2010', 'Nov-2010', 'Dec-2010', 'Jan-2011', 'Feb-2011', 'Mar-2011', 'Apr-2011', 'May-2011', 'Jun-2011', 'Jul-2011', 'Aug-2011', 'Sep-2011', 'Oct-2011', 'Nov-2011', 'Dec-2011', 'Jan-2012', 'Feb-2012', 'Mar-2012', 'Apr-2012', 'May-2012', 'Jun-2012', 'Jul-2012', 'Aug-2012', 'Sep-2012', 'Oct-2012', 'Nov-2012', 'Dec-2012', 'Jan-2013', 'Feb-2013', 'Mar-2013', 'Apr-2013', 'May-2013', 'Jun-2013', 'Jul-2013', 'Aug-2013', 'Sep-2013', 'Oct-2013', 'Nov-2013', 'Dec-2013', 'Jan-2014', 'Feb-2014', 'Mar-2014', 'Apr-2014', 'May-2014', 'Jun-2014', 'Jul-2014', 'Aug-2014', 'Sep-2014', 'Oct-2014', 'Nov-2014', 'Dec-2014', 'Jan-2015', 'Feb-2015', 'Mar-2015', 'Apr-2015', 'May-2015', 'Jun-2015', 'Jul-2015', 'Aug-2015', 'Sep-2015', 'Oct-2015', 'Nov-2015', 'Dec-2015', 'Jan-2016', 'Feb-2016', 'Mar-2016', 'Apr-2016', 'May-2016', 'Jun-2016', 'Jul-2016', 'Aug-2016', 'Sep-2016', 'Oct-2016', 'Nov-2016', 'Dec-2016', 'Jan-2017', 'Feb-2017']\n",
      "total months: 86\n",
      "Total: 38382578\n",
      "max profit: 1170593\n",
      "min loss: -1196225\n",
      "Total profits: 635561815\n",
      "Total losses: -98988633\n"
     ]
    }
   ],
   "source": [
    "with open (csvpath, 'r') as csvfile: # 'r' allows the file to be read\n",
    "    csvreader = csv.reader(csvfile, delimiter = ',') #this allows the file to be interpreted as a read file, allowing the file to be read and manipulated\n",
    "    header = next(csvreader) #When printing the file, skips the heading row\n",
    "    \n",
    "    for column in csvreader:          #this is a forloop \n",
    "        profit_loss = int(column[1])  #identifies and turns the second section of the column into integer values\n",
    "        months = column[0]  #Identifies the first column\n",
    "        profits_losses.append(profit_loss) \n",
    "        months_total.append(months) #Adds values to the list\n",
    "    for total in profits_losses:\n",
    "        total_revenue += total #adds all the integer values together with in the list\n",
    "        count += 1 # adds the total count of all variables in the list\n",
    "        if minl == 0:\n",
    "            minl = total\n",
    "        elif total > maxp:\n",
    "            maxp = total\n",
    "        elif total < minl:\n",
    "            minl = total\n",
    "        elif total > 0:\n",
    "            totalp += total\n",
    "        elif total < 0:\n",
    "            totall += total #Sets conditions in order to seperate and organize the variables and values\n",
    "print('loss and profits')\n",
    "print(profits_losses)\n",
    "print('dates')\n",
    "print(months_total)\n",
    "print(f'total months: {count}')\n",
    "print(f'Total: {total_revenue}')\n",
    "print(f'max profit: {maxp}')\n",
    "print(f'min loss: {minl}')\n",
    "print(f'Total profits: {totalp}')\n",
    "print(f'Total losses: {totall}') #f' {}' formats the variables to print within the string "
   ]
  },
  {
   "cell_type": "code",
   "execution_count": 171,
   "id": "42340d61-ccae-445e-baf5-109ac545e38d",
   "metadata": {},
   "outputs": [
    {
     "data": {
      "text/plain": [
       "array([  116771,  -662642,  -391430,   379920,   212354,   510239,\n",
       "        -428211,  -821271,   693918,   416278,  -974163,   860159,\n",
       "       -1115009,  1033048,    95318,  -308093,    99052,  -521393,\n",
       "         605450,   231727,   -65187,  -702716,   177975, -1065544,\n",
       "        1926159,  -917805,   898730,  -334262,  -246499,   -64055,\n",
       "       -1529236,  1497596,   304914,  -635801,   398319,  -183161,\n",
       "         -37864,  -253689,   403655,    94168,   306877,   -83000,\n",
       "         210462, -2196167,  1465222,  -956983,  1838447,  -468003,\n",
       "         -64602,   206242,  -242155,  -449079,   315198,   241099,\n",
       "         111540,   365942,  -219310,  -368665,   409837,   151210,\n",
       "        -110244,  -341938, -1212159,   683246,   -70825,   335594,\n",
       "         417334,  -272194,  -236462,   657432,  -211262,  -128237,\n",
       "       -1750387,   925441,   932089,  -311434,   267252, -1876758,\n",
       "        1733696,   198551,  -665765,   693229,  -734926,    77242,\n",
       "         532869])"
      ]
     },
     "execution_count": 171,
     "metadata": {},
     "output_type": "execute_result"
    }
   ],
   "source": [
    "changes = np.diff(profits_losses) #using numpy import we can use the diff() function to get the amount between each variable in order to measure increase and decrease.\n",
    "changes"
   ]
  },
  {
   "cell_type": "code",
   "execution_count": 172,
   "id": "55bf1c3b-b5ab-425e-b3c7-7c849b9ab94d",
   "metadata": {},
   "outputs": [
    {
     "name": "stdout",
     "output_type": "stream",
     "text": [
      "1926159\n",
      "-2196167\n",
      "-2315.12\n"
     ]
    }
   ],
   "source": [
    "max_prof = max(changes) #finds the highest variable in changes list \n",
    "print(max_prof)\n",
    "min_loss = min(changes) #finds the lowest variable in changes list\n",
    "print(min_loss)\n",
    "average_change = round(sum(changes) / len(changes), 2) #calculats the avarge within the list and the round function and 2 allows the output to be rounded to two decimal places. Also len() get the total amount of the list\n",
    "print(average_change)"
   ]
  },
  {
   "cell_type": "code",
   "execution_count": 173,
   "id": "ae29a6ba-3f1e-482c-a675-7d8026548f89",
   "metadata": {},
   "outputs": [],
   "source": [
    "output_path = Path('output.txt') #creates a file path to create a new file into text format\n",
    "\n",
    "with open(output_path, 'w') as file: #'w' allows for information to be added\n",
    "    file.write('Financial Analysis\\n')\n",
    "    file.write(\"----------------------------\\n\") #\\n function allows statements that would be next to eachother be shifted to the next line\n",
    "    file.write(f'Total Months: {count}\\n')\n",
    "    file.write(f'Total: ${total_revenue}\\n')\n",
    "    file.write(f'Average Change: ${average_change}\\n')\n",
    "    file.write(f'Greatest Increase in Profits: {months_total[25]} ({max_prof})\\n')\n",
    "    file.write(f'Greatest Decrease in Profits: {months_total[44]} ({min_loss})\\n') #[] allows certain variables within a list to be specifically or generally identified"
   ]
  },
  {
   "cell_type": "code",
   "execution_count": null,
   "id": "1cb9efc4-874d-4920-b9d9-d441ea0078e6",
   "metadata": {},
   "outputs": [],
   "source": []
  }
 ],
 "metadata": {
  "kernelspec": {
   "display_name": "Python 3",
   "language": "python",
   "name": "python3"
  },
  "language_info": {
   "codemirror_mode": {
    "name": "ipython",
    "version": 3
   },
   "file_extension": ".py",
   "mimetype": "text/x-python",
   "name": "python",
   "nbconvert_exporter": "python",
   "pygments_lexer": "ipython3",
   "version": "3.7.10"
  }
 },
 "nbformat": 4,
 "nbformat_minor": 5
}
