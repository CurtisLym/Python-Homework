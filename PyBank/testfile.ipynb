{
 "cells": [
  {
   "cell_type": "code",
   "execution_count": 7,
   "id": "8653a54c-d6c7-4852-9b5c-defb54e00454",
   "metadata": {},
   "outputs": [],
   "source": [
    "import csv"
   ]
  },
  {
   "cell_type": "code",
   "execution_count": 8,
   "id": "cd2a16c7-3b52-4287-b66a-e494406fd9f1",
   "metadata": {},
   "outputs": [],
   "source": [
    "all_profits = []\n",
    "all_losses = []\n",
    "months_total = []\n",
    "month_profit_loss = []\n",
    "count = 0\n",
    "total = 0"
   ]
  },
  {
   "cell_type": "code",
   "execution_count": 9,
   "id": "03855110-b2c9-4bf8-a343-11cb70b6c6a2",
   "metadata": {},
   "outputs": [],
   "source": [
    "csvfile = 'budget_data.csv'"
   ]
  },
  {
   "cell_type": "code",
   "execution_count": 10,
   "id": "e2f81633-a09e-4549-ad0f-d85c245fd182",
   "metadata": {},
   "outputs": [
    {
     "name": "stdout",
     "output_type": "stream",
     "text": [
      "['867884', '984655', '322013', '310503', '522857', '1033096', '604885', '477532', '893810', '779806', '697845', '793163', '485070', '584122', '62729', '668179', '899906', '834719', '132003', '309978', '1170593', '252788', '1151518', '817256', '570757', '506702', '475062', '779976', '144175', '542494', '359333', '321469', '67780', '471435', '565603', '872480', '789480', '999942', '268997', '1150461', '682458', '617856', '824098', '581943', '132864', '448062', '689161', '800701', '1166643', '947333', '578668', '988505', '1139715', '1029471', '687533', '158620', '87795', '423389', '840723', '568529', '332067', '989499', '778237', '650000', '757143', '445709', '712961', '569899', '768450', '102685', '795914', '60988', '138230', '671099']\n",
      "['-69417', '-216386', '-80353', '-335203', '-755566', '-1022534', '-1196225', '-687986', '-524626', '-1100387', '-174946', '-1163797']\n"
     ]
    }
   ],
   "source": [
    "with open (csvfile, 'r') as csvbud:\n",
    "    csvreader = csv.reader(csvbud, delimiter = ',')\n",
    "    header = next(csvreader)\n",
    "    \n",
    "    for row in csvreader:\n",
    "        months = row[0]\n",
    "        months_total.append(months)\n",
    "        if int(row[1]) > 0:\n",
    "            all_profits.append(row[1])\n",
    "        elif int(row[1]) < 0:\n",
    "            all_losses.append(row[1])\n",
    "            \n",
    "print(all_profits)\n",
    "print(all_losses)"
   ]
  },
  {
   "cell_type": "code",
   "execution_count": 11,
   "id": "b9fe9efe-0377-40fc-b15f-33d715c06324",
   "metadata": {},
   "outputs": [
    {
     "name": "stdout",
     "output_type": "stream",
     "text": [
      "['671099', '999942', '668179', '475062', '-755566', '1151518', '578668', '1170593', '569899', '522857', '893810', '506702', '448062', '-69417', '102685', '322013', '899906', '471435', '-687986', '60988', '584122', '-80353', '-1100387', '477532', '1150461', '570757', '867884', '268997', '-1196225', '984655', '687533', '158620', '-174946', '581943', '712961', '988505', '697845', '542494', '650000', '779806', '757143', '682458', '321469', '132003', '604885', '779976', '947333', '359333', '252788', '1029471', '445709', '67780', '834719', '793163', '617856', '485070', '1166643', '-1163797', '87795', '62729', '789480', '872480', '824098', '309978', '989499', '-216386', '565603', '138230', '-335203', '800701', '310503', '778237', '568529', '-524626', '332067', '423389', '689161', '768450', '795914', '817256', '144175', '-1022534', '132864', '840723', '1139715', '1033096']\n"
     ]
    }
   ],
   "source": [
    "difference_1 = set(all_profits).difference(set(all_losses))\n",
    "difference_2 = set(all_losses).difference(set(all_profits))\n",
    "\n",
    "list_difference = list(difference_1.union(difference_2))\n",
    "print(list_difference)"
   ]
  },
  {
   "cell_type": "code",
   "execution_count": null,
   "id": "e21b097c-d69f-4685-b9f6-0657923e669e",
   "metadata": {},
   "outputs": [],
   "source": [
    " #for row in csvreader:\n",
    "        #date = row[0]\n",
    "        #profit_loss = int(row[1])\n",
    "        #month_profit_loss.append(row)\n",
    "    \n",
    "    #for profit in month_profit_loss:\n",
    "        #count += 1\n",
    "        \n",
    "#print(count)\n",
    "#print(month_profit_loss)"
   ]
  }
 ],
 "metadata": {
  "kernelspec": {
   "display_name": "Python 3",
   "language": "python",
   "name": "python3"
  },
  "language_info": {
   "codemirror_mode": {
    "name": "ipython",
    "version": 3
   },
   "file_extension": ".py",
   "mimetype": "text/x-python",
   "name": "python",
   "nbconvert_exporter": "python",
   "pygments_lexer": "ipython3",
   "version": "3.7.10"
  }
 },
 "nbformat": 4,
 "nbformat_minor": 5
}
